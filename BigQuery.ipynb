{
 "cells": [
  {
   "cell_type": "code",
   "execution_count": 1,
   "metadata": {},
   "outputs": [],
   "source": [
    "from google.cloud import bigquery\n",
    "from google.oauth2 import service_account"
   ]
  },
  {
   "cell_type": "code",
   "execution_count": 2,
   "metadata": {},
   "outputs": [],
   "source": [
    "credentials=service_account.Credentials.from_service_account_file('/Users/tranduc/Downloads/bigquery-456420-9a3a761e57d2.json',\n",
    "                                                                  scopes=['https://www.googleapis.com/auth/cloud-platform',\n",
    "                                                                          \"https://www.googleapis.com/auth/drive\"\n",
    "                                                                          ])"
   ]
  },
  {
   "cell_type": "code",
   "execution_count": 3,
   "metadata": {},
   "outputs": [],
   "source": [
    "project_id='bigquery-456420'"
   ]
  },
  {
   "cell_type": "code",
   "execution_count": 4,
   "metadata": {},
   "outputs": [],
   "source": [
    "client=bigquery.Client(credentials=credentials, project=project_id)"
   ]
  },
  {
   "cell_type": "code",
   "execution_count": 5,
   "metadata": {},
   "outputs": [],
   "source": [
    "query='select * from bigquery-456420.fundraising_form.responses'\n",
    "query_job=client.query(query)"
   ]
  },
  {
   "cell_type": "code",
   "execution_count": 6,
   "metadata": {},
   "outputs": [],
   "source": [
    "result=query_job.result().to_dataframe()"
   ]
  },
  {
   "cell_type": "code",
   "execution_count": 7,
   "metadata": {},
   "outputs": [
    {
     "data": {
      "text/plain": [
       "{'Timestamp': Timestamp('2025-04-09 14:52:45+0000', tz='UTC'),\n",
       " 'What_is_your_name_': 'Sarah Williams',\n",
       " 'What_is_your_email_address_': 'sarah.williams@email.com',\n",
       " 'Who_are_you_raising_money_for_': 'Charity',\n",
       " 'What_is_the_name_of_the_charity_or_friend_': 'Hope for Vision',\n",
       " 'How_did_you_come_to_know_about_this_charity_or_friend_': 'I first learned about Hope for Vision through a local community event. A friend of mine, who is an active volunteer with the charity, shared Emily’s story and the impact the organization had on other families in similar situations.',\n",
       " 'What_are_your_reasons_for_raising_funds_': 'I’m raising funds because Emily’s situation is urgent, and without the necessary surgery, she will lose her vision. I want to help her regain her sight and give her a chance at a normal childhood. The charity has been instrumental in helping children like Emily, and I believe it’s important to support their mission.',\n",
       " 'How_much_would_you_like_to_raise_': np.int64(5000),\n",
       " 'Which_donation_option_would_you_prefer_': 'One-time',\n",
       " 'How_will_the_funds_be_distributed_': 'The funds raised will be used directly for Emily’s surgery and recovery process. Any additional funds will go towards helping other children who are in need of similar medical assistance through Hope for Vision.'}"
      ]
     },
     "execution_count": 7,
     "metadata": {},
     "output_type": "execute_result"
    }
   ],
   "source": [
    "def responses(fundraiser,response):\n",
    "    my_dict={}\n",
    "    response=response.loc[response['What_is_your_name_']==fundraiser,:]\n",
    "    for column in response:\n",
    "        for value in response[column]:\n",
    "            my_dict[column]=value\n",
    "    return my_dict\n",
    "responses('Sarah Williams', result)"
   ]
  }
 ],
 "metadata": {
  "kernelspec": {
   "display_name": "Python 3",
   "language": "python",
   "name": "python3"
  },
  "language_info": {
   "codemirror_mode": {
    "name": "ipython",
    "version": 3
   },
   "file_extension": ".py",
   "mimetype": "text/x-python",
   "name": "python",
   "nbconvert_exporter": "python",
   "pygments_lexer": "ipython3",
   "version": "3.9.6"
  }
 },
 "nbformat": 4,
 "nbformat_minor": 2
}
